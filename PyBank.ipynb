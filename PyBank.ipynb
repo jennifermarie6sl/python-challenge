{
 "cells": [
  {
   "cell_type": "code",
   "execution_count": 95,
   "id": "869e734d",
   "metadata": {},
   "outputs": [
    {
     "ename": "TypeError",
     "evalue": "'str' object is not callable",
     "output_type": "error",
     "traceback": [
      "\u001b[0;31m---------------------------------------------------------------------------\u001b[0m",
      "\u001b[0;31mTypeError\u001b[0m                                 Traceback (most recent call last)",
      "\u001b[0;32m<ipython-input-95-2a88f68e7e54>\u001b[0m in \u001b[0;36m<module>\u001b[0;34m\u001b[0m\n\u001b[1;32m     49\u001b[0m         \u001b[0;31m#Track new changes\u001b[0m\u001b[0;34m\u001b[0m\u001b[0;34m\u001b[0m\u001b[0;34m\u001b[0m\u001b[0m\n\u001b[1;32m     50\u001b[0m         \u001b[0mnet_change\u001b[0m\u001b[0;34m=\u001b[0m \u001b[0mint\u001b[0m\u001b[0;34m(\u001b[0m\u001b[0mrow\u001b[0m\u001b[0;34m[\u001b[0m\u001b[0;36m1\u001b[0m\u001b[0;34m]\u001b[0m\u001b[0;34m)\u001b[0m \u001b[0;34m-\u001b[0m \u001b[0mp_l_start\u001b[0m\u001b[0;34m\u001b[0m\u001b[0;34m\u001b[0m\u001b[0m\n\u001b[0;32m---> 51\u001b[0;31m         \u001b[0mprint\u001b[0m\u001b[0;34m(\u001b[0m\u001b[0mnet_change\u001b[0m\u001b[0;34m)\u001b[0m\u001b[0;34m\u001b[0m\u001b[0;34m\u001b[0m\u001b[0m\n\u001b[0m\u001b[1;32m     52\u001b[0m \u001b[0;34m\u001b[0m\u001b[0m\n\u001b[1;32m     53\u001b[0m \u001b[0;34m\u001b[0m\u001b[0m\n",
      "\u001b[0;31mTypeError\u001b[0m: 'str' object is not callable"
     ]
    }
   ],
   "source": [
    "import os\n",
    "import csv\n",
    "\n",
    "budget_data_csv = os.path.join(\".\", \"PyBank\", \"Resources\", \"budget_data.csv\")\n",
    "analysis_file = os.path.join(\"PyBank\", \"Analysis\", \"Analysis.txt\")\n",
    "\n",
    "#defining variables\n",
    "#Month Variables\n",
    "months = 0\n",
    "months_changed = []\n",
    "total_months = []\n",
    "     \n",
    "#Dollar Variables\n",
    "p_l_start= 0\n",
    "\n",
    "#CSV file management\n",
    "with open(budget_data_csv) as csv_file:\n",
    "    csv_reader = csv.reader(csv_file)\n",
    "    \n",
    "    #Read/skip the header\n",
    "    csv_header = next(csv_file)\n",
    "    #print (f'Header: {csv_header}')\n",
    "    \n",
    "    #extract first row to avoid appending to total\n",
    "    first_row = next(csv_reader) \n",
    "    #print(first_row) #tester to see if it returns value in first row\n",
    "    months = months + 1 #takes starting months value of 0 and adds 1\n",
    "    #print(months)\n",
    "    p_l_start = p_l_start + int(first_row[1])\n",
    "    #print(p_l_start)\n",
    "    net_change= int(first_row[1])\n",
    "    #print(net_change)\n",
    "    \n",
    "    for row in csv_reader:\n",
    "        \n",
    "        #Start tracking\n",
    "        months = months + 1\n",
    "        #print(months)#prints list of count of months\n",
    "        p_l_start = p_l_start + int(first_row[1])\n",
    "        #print(p_l_start)\n",
    "             \n",
    "        \n",
    "        #Track changes\n",
    "        months_changed = months_changed + [row[0]]\n",
    "        #print(months_changed) #prints the list of actual months\n",
    "        P_l_start = p_l_start + int(first_row[1])\n",
    "        #print(p_l_start)\n",
    "        \n",
    "        #Track new changes\n",
    "        net_change= int(row[1]) - p_l_start\n",
    "        print(net_change)\n",
    "        \n",
    "        \n",
    "#    output = (\n",
    "#    f'\\nFinancial Analysis\\n'\n",
    "#    f'\\n------------------------------------------------\\n'\n",
    "#    f'\\nTotal Months: {months}\\n'\n",
    "#    f'\\nTotal: ${}\\n'\n",
    "#    f'\\nAverage Change ${}\\n'\n",
    "#    f'\\nGreatest Increase in Profits: {} {}\\n'\n",
    "#    f'\\nGreastest Decrease in Profits: {} {}\\n')\n"
   ]
  },
  {
   "cell_type": "code",
   "execution_count": 81,
   "id": "3edec498",
   "metadata": {},
   "outputs": [],
   "source": [
    "#import csv\n",
    "#import os\n",
    "\n",
    "#file = os.path.join(\"election_data.csv\")\n",
    "\n",
    "#with open(file) as election data:\n",
    "    #print file\n",
    "    #reader = csv.reader(election_data)\n",
    "    \n",
    "    #header = next(reader)\n",
    "    \n",
    "    #candidate_options = []\n",
    "    #candidate_votes = {}\n",
    "    \n",
    "    #for row in reader:\n",
    "    #    print(row) #tester row\n",
    "    \n",
    "        #candidate_name = row(2)\n",
    "        \n",
    "        #if candidate_name not in candidate_options: #checks to see if the candidate name is in the list\n",
    "        #    candidate_options.append(candidate_name) #if the name is not in the list it appends it to the list\n",
    "        #    candidate_votes[candidate_name] = 0 #0 is the #adds the candidate name and votes to the candidate votes dictionary \n",
    "        #canidate_votes[candidate_name] +=\n",
    "            \n",
    "        #print(candidate_name) #tester line"
   ]
  },
  {
   "cell_type": "code",
   "execution_count": null,
   "id": "687f2b5a",
   "metadata": {},
   "outputs": [],
   "source": []
  }
 ],
 "metadata": {
  "kernelspec": {
   "display_name": "Python 3",
   "language": "python",
   "name": "python3"
  },
  "language_info": {
   "codemirror_mode": {
    "name": "ipython",
    "version": 3
   },
   "file_extension": ".py",
   "mimetype": "text/x-python",
   "name": "python",
   "nbconvert_exporter": "python",
   "pygments_lexer": "ipython3",
   "version": "3.8.8"
  }
 },
 "nbformat": 4,
 "nbformat_minor": 5
}
