{
 "cells": [
  {
   "cell_type": "code",
   "execution_count": 19,
   "id": "a32e6f45",
   "metadata": {},
   "outputs": [
    {
     "name": "stdout",
     "output_type": "stream",
     "text": [
      "Header: Date,Profit/Losses\n",
      "\n"
     ]
    }
   ],
   "source": [
    "import os\n",
    "import csv\n",
    "\n",
    "budget_data_csv = os.path.join(\".\", \"PyBank\", \"Resources\", \"budget_data.csv\")\n",
    "analysis_file = os.path.join(\"PyBank\", \"Analysis\", \"Analysis.txt\")\n",
    "\n",
    "#defining variables\n",
    "#Month Variables\n",
    "months = 0\n",
    "months_changed = []\n",
    "change_list = []\n",
    "     \n",
    "#Dollar Variables\n",
    "#profit_loss_values = int(budget_data[1])\n",
    "#months_total = sum(months)\n",
    "\n",
    "#CSV file management\n",
    "with open(budget_data_csv) as csv_file:\n",
    "    csv_reader = csv.reader(csv_file, delimiter= \",\")\n",
    "    \n",
    "    #Read the header\n",
    "    csv_header = next(csv_file)\n",
    "    print (f'Header: {csv_header}')\n",
    "        \n",
    "#    print sum(profit_loss)\n",
    "    \n",
    "profit_loss = []\n",
    "#for data in csv_reader:\n",
    "#            profit_loss.append(float(data[2])\n",
    "            \n",
    "#        data_dictionary = {}\n",
    "#        data_dictionary[\"dollars\"] = profit_loss\n",
    "#        data_dictionary[\"sum\"] = sum(data_dictionary[\"dollars\"])\n",
    "#        print(data_dictionary)\n",
    "\n",
    "       \n",
    "    \n",
    "    \n",
    "    \n",
    "                              \n",
    "#    print(for fiber in data_dictionary[\"fiber\"]:\n",
    "#            print (fiber)\n",
    "#          print(sum(data_dictionary[\"fiber\"])"
   ]
  },
  {
   "cell_type": "code",
   "execution_count": null,
   "id": "326bdaf1",
   "metadata": {},
   "outputs": [],
   "source": []
  }
 ],
 "metadata": {
  "kernelspec": {
   "display_name": "Python 3",
   "language": "python",
   "name": "python3"
  },
  "language_info": {
   "codemirror_mode": {
    "name": "ipython",
    "version": 3
   },
   "file_extension": ".py",
   "mimetype": "text/x-python",
   "name": "python",
   "nbconvert_exporter": "python",
   "pygments_lexer": "ipython3",
   "version": "3.8.8"
  }
 },
 "nbformat": 4,
 "nbformat_minor": 5
}
