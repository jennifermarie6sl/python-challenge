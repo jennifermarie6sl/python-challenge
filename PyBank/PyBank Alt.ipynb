{
 "cells": [
  {
   "cell_type": "code",
   "execution_count": 85,
   "id": "903b2b3c",
   "metadata": {},
   "outputs": [
    {
     "name": "stdout",
     "output_type": "stream",
     "text": [
      "\n",
      "Financial Analysis\n",
      "------------------------------------------------------\n",
      "Total Months: 86\n",
      "Total: $38,382,578\n",
      "Average Change $-2,315.12\n",
      "Greatest Increase in Profits: Feb-2012 ($1,926,159)\n",
      "Greatest Decrease in Profits: Sep-2013 ($-2,196,167)\n",
      "\n"
     ]
    }
   ],
   "source": [
    "import os\n",
    "import csv\n",
    "\n",
    "budget_data_csv = os.path.join(\".\", \"Resources\", \"budget_data.csv\")\n",
    "analysis_file = os.path.join(\"Analysis\", \"Analysis.txt\")\n",
    "\n",
    "#defining variables\n",
    "#Month Variables\n",
    "months = 0\n",
    "months_changed = []\n",
    "total_months = []\n",
    "     \n",
    "#Dollar Variables\n",
    "p_l_start= 0\n",
    "net_change_list = []\n",
    "max_increase = 0\n",
    "max_decrease = 0\n",
    "max_increase_month = \" \"\n",
    "max_decrease_month = \" \"\n",
    "\n",
    "#CSV file management\n",
    "with open(budget_data_csv) as csv_file:\n",
    "    csv_reader = csv.reader(csv_file)\n",
    "    \n",
    "    #Read/skip the header\n",
    "    csv_header = next(csv_file)\n",
    "       \n",
    "    #extract first row to avoid appending to total\n",
    "    first_row = next(csv_reader) \n",
    "        \n",
    "    #Place holders for starting points for \"for loop\"\n",
    "    months = months + 1 #takes starting months value of 0 and adds 1\n",
    "    p_l_start += int(first_row[1])\n",
    "    net_change= int(first_row[1])\n",
    "        \n",
    "    for row in csv_reader:\n",
    "        \n",
    "        #Track new changes\n",
    "        months = months + 1\n",
    "        delta= int(row[1]) - net_change\n",
    "        net_change = int(row[1])\n",
    "        p_l_start += (net_change)\n",
    "        net_change_list = net_change_list + [delta]\n",
    "        months_changed = months_changed + [row[0]]\n",
    "        \n",
    "        if delta > max_increase:\n",
    "            max_increase = delta\n",
    "            max_increase_month = row[0]\n",
    "        \n",
    "        if delta < max_decrease:\n",
    "            max_decrease = delta\n",
    "            max_decrease_month = row[0]   \n",
    "\n",
    "    #Calcs:\n",
    "    average = sum(net_change_list)/ len(net_change_list)\n",
    "        \n",
    "    output = (f\"\\nFinancial Analysis\\n\"\n",
    "        f\"------------------------------------------------------\\n\"\n",
    "        f\"Total Months: {months}\\n\"\n",
    "        f\"Total: ${p_l_start:,}\\n\"\n",
    "        f\"Average Change ${round(average, 2):,}\\n\"\n",
    "        f\"Greatest Increase in Profits: {max_increase_month} (${max_increase:,})\\n\"\n",
    "        f\"Greatest Decrease in Profits: {max_decrease_month} (${max_decrease:,})\\n\")\n",
    "\n",
    "    print(output)\n",
    "\n",
    "with open(analysis_file ,\"w\") as txt_file:   \n",
    "    txt_file.write(output)"
   ]
  },
  {
   "cell_type": "code",
   "execution_count": 50,
   "id": "604cbd71",
   "metadata": {},
   "outputs": [
    {
     "ename": "NameError",
     "evalue": "name 'decimal' is not defined",
     "output_type": "error",
     "traceback": [
      "\u001b[0;31m---------------------------------------------------------------------------\u001b[0m",
      "\u001b[0;31mNameError\u001b[0m                                 Traceback (most recent call last)",
      "\u001b[0;32m<ipython-input-50-9c9b5a9dacb5>\u001b[0m in \u001b[0;36m<module>\u001b[0;34m\u001b[0m\n\u001b[0;32m----> 1\u001b[0;31m \u001b[0mhelp\u001b[0m\u001b[0;34m(\u001b[0m\u001b[0mdecimal\u001b[0m\u001b[0;34m)\u001b[0m\u001b[0;34m\u001b[0m\u001b[0;34m\u001b[0m\u001b[0m\n\u001b[0m",
      "\u001b[0;31mNameError\u001b[0m: name 'decimal' is not defined"
     ]
    }
   ],
   "source": []
  },
  {
   "cell_type": "code",
   "execution_count": null,
   "id": "084a50e6",
   "metadata": {},
   "outputs": [],
   "source": []
  }
 ],
 "metadata": {
  "kernelspec": {
   "display_name": "Python 3",
   "language": "python",
   "name": "python3"
  },
  "language_info": {
   "codemirror_mode": {
    "name": "ipython",
    "version": 3
   },
   "file_extension": ".py",
   "mimetype": "text/x-python",
   "name": "python",
   "nbconvert_exporter": "python",
   "pygments_lexer": "ipython3",
   "version": "3.8.8"
  }
 },
 "nbformat": 4,
 "nbformat_minor": 5
}
