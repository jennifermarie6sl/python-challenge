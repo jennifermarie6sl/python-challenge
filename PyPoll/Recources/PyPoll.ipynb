{
 "cells": [
  {
   "cell_type": "code",
   "execution_count": 27,
   "id": "013cbcf5",
   "metadata": {},
   "outputs": [
    {
     "name": "stdout",
     "output_type": "stream",
     "text": [
      "Correy\n",
      "{'Correy': 704200, 'Khan': 2218230, 'Li': 492940, \"O'Tooley\": 105630}\n",
      "2218230\n"
     ]
    }
   ],
   "source": [
    "import os\n",
    "import csv\n",
    "\n",
    "election_data_csv = os.path.join(\".\", \"election_data.csv\")\n",
    "analysis_file = os.path.join(\"PyPoll\", \"Analysis\", \"Analysis.txt\")\n",
    "\n",
    "#CSV file management\n",
    "with open(election_data_csv) as csv_file:\n",
    "    csv_reader = csv.reader(csv_file)\n",
    "    \n",
    "    #Read/skip the header\n",
    "    csv_header = next(csv_file)\n",
    "        \n",
    "    #extract first row to avoid appending to total\n",
    "    first_row = next(csv_reader) \n",
    "        \n",
    "    #Define variables, lists and dictionaries\n",
    "    candidate_options = []\n",
    "    candidate_votes = {} # here\n",
    "    votes_count = []\n",
    "    \n",
    "    for row in csv_reader:\n",
    "        votes_count.append(row[0])\n",
    "        \n",
    "        candidate_name = row[2]\n",
    "        \n",
    "        if candidate_name not in candidate_options: \n",
    "            candidate_options.append(candidate_name)\n",
    "            candidate_votes[candidate_name] =0  #here\n",
    "        candidate_votes[candidate_name] += 1  #here\n",
    "    print(candidate_options[0])\n",
    "    print(candidate_votes)\n",
    "    \n",
    "    #winner based on popular votes*********need it to return the key\n",
    "    winner = max(candidate_votes.values())\n",
    "    print(winner)  \n",
    "    \n",
    "    "
   ]
  },
  {
   "cell_type": "code",
   "execution_count": 57,
   "id": "3a7de5c2",
   "metadata": {},
   "outputs": [
    {
     "name": "stdout",
     "output_type": "stream",
     "text": [
      "dict_values([704200, 2218230, 492940, 105630])\n",
      "[20.0, 63.0, 14.000000000000002, 3.0]\n",
      "None\n",
      "3.0\n"
     ]
    }
   ],
   "source": [
    "#percent of votes per candidate\n",
    "candidates_totals = candidate_votes.values()\n",
    "print(candidates_totals)\n",
    "percent_per_candidate = []\n",
    "\n",
    "#total votes per candidate\n",
    "\n",
    "for r in candidates_totals:\n",
    "#    vote_per = candidate_votes.get(r)\n",
    "    percent_wins = float(r)/ float(len(votes_count)) *100\n",
    "    percent_per_candidate.append(percent_wins)\n",
    "print(percent_per_candidate)\n",
    "print(vote_per)\n",
    "print(percent_wins)"
   ]
  },
  {
   "cell_type": "code",
   "execution_count": null,
   "id": "7496800a",
   "metadata": {},
   "outputs": [],
   "source": []
  },
  {
   "cell_type": "code",
   "execution_count": 46,
   "id": "540cd38b",
   "metadata": {},
   "outputs": [
    {
     "name": "stdout",
     "output_type": "stream",
     "text": [
      "('Khan', 2218230)\n",
      "[20.0, 63.0, 14.000000000000002, 3.0]\n",
      "('Correy', 704200)\n",
      "[20.0, 63.0, 14.000000000000002, 3.0]\n",
      "('Li', 492940)\n",
      "[20.0, 63.0, 14.000000000000002, 3.0]\n",
      "(\"O'Tooley\", 105630)\n",
      "[20.0, 63.0, 14.000000000000002, 3.0]\n"
     ]
    }
   ],
   "source": [
    "sort_canidates = sorted(candidate_votes.items(), key=lambda x: x[1], reverse=True)\n",
    "\n",
    "for i in sort_canidates:\n",
    "    #print(i[0], i[1])\n",
    "    print(i)\n",
    "    print(percent_per_candidate)"
   ]
  },
  {
   "cell_type": "code",
   "execution_count": 48,
   "id": "fdeac99e",
   "metadata": {},
   "outputs": [
    {
     "ename": "NameError",
     "evalue": "name 'sort_candidates' is not defined",
     "output_type": "error",
     "traceback": [
      "\u001b[0;31m---------------------------------------------------------------------------\u001b[0m",
      "\u001b[0;31mNameError\u001b[0m                                 Traceback (most recent call last)",
      "\u001b[0;32m<ipython-input-48-38585283086c>\u001b[0m in \u001b[0;36m<module>\u001b[0;34m\u001b[0m\n\u001b[0;32m----> 1\u001b[0;31m \u001b[0mcanidate_summary\u001b[0m \u001b[0;34m=\u001b[0m \u001b[0;34mf\"{sort_candidates}:\"\u001b[0m\u001b[0;34m\u001b[0m\u001b[0;34m\u001b[0m\u001b[0m\n\u001b[0m\u001b[1;32m      2\u001b[0m \u001b[0mprint\u001b[0m\u001b[0;34m(\u001b[0m\u001b[0mcandidate_summary\u001b[0m\u001b[0;34m)\u001b[0m\u001b[0;34m\u001b[0m\u001b[0;34m\u001b[0m\u001b[0m\n",
      "\u001b[0;31mNameError\u001b[0m: name 'sort_candidates' is not defined"
     ]
    }
   ],
   "source": [
    "canidate_summary = f\"{sort_candidates}:\"\n",
    "print(candidate_summary)"
   ]
  },
  {
   "cell_type": "code",
   "execution_count": null,
   "id": "9892df02",
   "metadata": {},
   "outputs": [],
   "source": [
    "#   print(i[0], i[1], i[2])"
   ]
  },
  {
   "cell_type": "code",
   "execution_count": null,
   "id": "2ce88ba8",
   "metadata": {},
   "outputs": [],
   "source": [
    "# Append all to new sorted dictionary?  {\"Name\":[],\"Percentage of Votes\":[],\"Votes Per Candidate\":[]}"
   ]
  },
  {
   "cell_type": "code",
   "execution_count": null,
   "id": "19403445",
   "metadata": {},
   "outputs": [],
   "source": [
    "#append percent_per_candidate to the canidate_votes dictionary?\n",
    "#format percent  \"{:.2%}\".format\n",
    "#write to file"
   ]
  },
  {
   "cell_type": "code",
   "execution_count": null,
   "id": "b384c20d",
   "metadata": {},
   "outputs": [],
   "source": [
    "    #if candidate votes.max() return candidate 1st key*************************\n",
    "    #candidates_sorted = sorted(zip(candidates_votes.values(), Candidates.keys()))\n",
    "    #print(f\"Output \\n***{candidates_sorted} \") \n",
    "    #sorted(myDict, key=myDict.get, reverse=True)\n",
    "    #if statement to create variables to pass into output block?\n",
    "        \n",
    "    #print(len(votes_count))\n",
    "    #print(candidate_name)\n",
    "    \n",
    "    #output = (f\"\\nElection Results\\n\"\n",
    "    #    f\"------------------------------------------------\\n\"\n",
    "    #    f\"Total Votes: {len(votes_count)}\\n\"\n",
    "    #    f\"------------------------------------------------\\n\"\n",
    "    #    f\"\\n\"\n",
    "    #    f\"\\n\"\n",
    "    #    f\"\\n\"\n",
    "    #    f\"\\n\"\n",
    "    #    f\"------------------------------------------------\\n\"\n",
    "    #    f\"Winner:{winner}\\n\")\n",
    "    #print(output)"
   ]
  },
  {
   "cell_type": "code",
   "execution_count": null,
   "id": "ed467339",
   "metadata": {},
   "outputs": [],
   "source": [
    "#with open(file_to_output ,\"w\") as txt_file:\n",
    "#    print(output, end=\"\")\n",
    "    \n",
    "#txt_file.write(output)"
   ]
  }
 ],
 "metadata": {
  "kernelspec": {
   "display_name": "Python 3",
   "language": "python",
   "name": "python3"
  },
  "language_info": {
   "codemirror_mode": {
    "name": "ipython",
    "version": 3
   },
   "file_extension": ".py",
   "mimetype": "text/x-python",
   "name": "python",
   "nbconvert_exporter": "python",
   "pygments_lexer": "ipython3",
   "version": "3.8.8"
  }
 },
 "nbformat": 4,
 "nbformat_minor": 5
}
