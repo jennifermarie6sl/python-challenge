{
 "cells": [
  {
   "cell_type": "code",
   "execution_count": 11,
   "id": "013cbcf5",
   "metadata": {},
   "outputs": [
    {
     "name": "stdout",
     "output_type": "stream",
     "text": [
      "\n",
      "Election Results\n",
      "------------------------------------------------\n",
      "Total Votes: 3,521,001\n",
      "------------------------------------------------\n",
      "Khan: 63.000% (2,218,231) \n",
      "Correy: 20.000% (704,200)\n",
      "Li: 14.000% (492,940)\n",
      "O'Tooley: 3.000% (105,630)\n",
      "------------------------------------------------\n",
      "Winner: Khan\n",
      "\n"
     ]
    }
   ],
   "source": [
    "import os\n",
    "import csv\n",
    "\n",
    "election_data_csv = os.path.join(\".\", \"Resources\", \"election_data.csv\")\n",
    "analysis_file = os.path.join(\"Analysis\", \"Analysis.txt\")\n",
    "\n",
    "#Define variables, lists and dictionaries\n",
    "candidate_options = []\n",
    "candidate_votes = {}\n",
    "votes_count = []\n",
    "total_votes = 0\n",
    "    \n",
    "#CSV file management\n",
    "with open(election_data_csv) as csv_file:\n",
    "    csv_reader = csv.reader(csv_file)\n",
    "    \n",
    "    #Read/skip the header\n",
    "    csv_header = next(csv_file)\n",
    "    \n",
    "    for row in csv_reader:\n",
    "        votes_count.append(row[0])\n",
    "        candidate_name = row[2]\n",
    "         \n",
    "        total_votes = total_votes + 1\n",
    "        \n",
    "        if candidate_name not in candidate_options: \n",
    "            candidate_options.append(candidate_name)\n",
    "            candidate_votes[candidate_name] =0 \n",
    "        candidate_votes[candidate_name] += 1 \n",
    "            \n",
    "    #winner variables\n",
    "    maxVotes = 0\n",
    "    winner = \"\" #empty string\n",
    "    \n",
    "    for candidate, votes in candidate_votes.items():\n",
    "        \n",
    "        #calc winner\n",
    "        if votes > maxVotes:\n",
    "            maxVotes = votes\n",
    "            winner = candidate\n",
    "        \n",
    "        #calc %\n",
    "        if candidate == \"Khan\":\n",
    "            Khan_votes = votes\n",
    "            Khan_percent = round((votes / total_votes) * 100, 3)\n",
    "        elif candidate == \"Correy\":\n",
    "            Correy_votes = votes\n",
    "            Correy_percent = round((votes / total_votes) * 100, 3)  \n",
    "        elif candidate == \"Li\":\n",
    "            Li_votes = votes\n",
    "            Li_percent = round((votes / total_votes) * 100, 3)\n",
    "        elif candidate == \"O'Tooley\":\n",
    "            Tooley_votes = votes\n",
    "            Tooley_percent = round((votes / total_votes) * 100, 3)  \n",
    "\n",
    "output = (f\"\\nElection Results\\n\"\n",
    "        f\"------------------------------------------------\\n\"\n",
    "        f\"Total Votes: {total_votes:,}\\n\"\n",
    "        f\"------------------------------------------------\\n\"\n",
    "        f\"Khan: {Khan_percent:.3f}% ({Khan_votes:,}) \\n\"\n",
    "        f\"Correy: {Correy_percent:.3f}% ({Correy_votes:,})\\n\"\n",
    "        f\"Li: {Li_percent:.3f}% ({Li_votes:,})\\n\"\n",
    "        f\"O'Tooley: {Tooley_percent:.3f}% ({Tooley_votes:,})\\n\"\n",
    "        f\"------------------------------------------------\\n\"\n",
    "        f\"Winner: {winner}\\n\")\n",
    "print(output)\n",
    "    \n",
    "with open(analysis_file ,\"w\") as txt_file:\n",
    "    txt_file.write(output)"
   ]
  },
  {
   "cell_type": "code",
   "execution_count": null,
   "id": "3a7de5c2",
   "metadata": {},
   "outputs": [],
   "source": []
  },
  {
   "cell_type": "code",
   "execution_count": null,
   "id": "7496800a",
   "metadata": {},
   "outputs": [],
   "source": []
  },
  {
   "cell_type": "code",
   "execution_count": null,
   "id": "540cd38b",
   "metadata": {},
   "outputs": [],
   "source": []
  },
  {
   "cell_type": "code",
   "execution_count": null,
   "id": "fdeac99e",
   "metadata": {},
   "outputs": [],
   "source": []
  },
  {
   "cell_type": "code",
   "execution_count": null,
   "id": "9892df02",
   "metadata": {},
   "outputs": [],
   "source": []
  },
  {
   "cell_type": "code",
   "execution_count": null,
   "id": "2ce88ba8",
   "metadata": {},
   "outputs": [],
   "source": []
  },
  {
   "cell_type": "code",
   "execution_count": null,
   "id": "19403445",
   "metadata": {},
   "outputs": [],
   "source": []
  },
  {
   "cell_type": "code",
   "execution_count": null,
   "id": "b384c20d",
   "metadata": {},
   "outputs": [],
   "source": [
    " "
   ]
  },
  {
   "cell_type": "code",
   "execution_count": null,
   "id": "ed467339",
   "metadata": {},
   "outputs": [],
   "source": []
  }
 ],
 "metadata": {
  "kernelspec": {
   "display_name": "Python 3",
   "language": "python",
   "name": "python3"
  },
  "language_info": {
   "codemirror_mode": {
    "name": "ipython",
    "version": 3
   },
   "file_extension": ".py",
   "mimetype": "text/x-python",
   "name": "python",
   "nbconvert_exporter": "python",
   "pygments_lexer": "ipython3",
   "version": "3.8.8"
  }
 },
 "nbformat": 4,
 "nbformat_minor": 5
}
