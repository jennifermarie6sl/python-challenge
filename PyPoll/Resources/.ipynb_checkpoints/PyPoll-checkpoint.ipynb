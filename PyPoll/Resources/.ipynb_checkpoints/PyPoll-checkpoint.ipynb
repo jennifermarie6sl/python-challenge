{
 "cells": [
  {
   "cell_type": "code",
   "execution_count": 111,
   "id": "013cbcf5",
   "metadata": {},
   "outputs": [
    {
     "name": "stdout",
     "output_type": "stream",
     "text": [
      "\n",
      "Election Results\n",
      "------------------------------------------------\n",
      "Total Votes: 3,521,001\n",
      "------------------------------------------------\n",
      "Khan: 63.000% (2,218,231) \n",
      "Correy: 20.000% (704,200)\n",
      "Li: 14.000% (492,940)\n",
      "O'Tooley: 3.000% (105,630)\n",
      "------------------------------------------------\n",
      "Winner: Khan\n",
      "\n"
     ]
    },
    {
     "ename": "FileNotFoundError",
     "evalue": "[Errno 2] No such file or directory: 'Analysis/Resources/Analysis.txt'",
     "output_type": "error",
     "traceback": [
      "\u001b[0;31m---------------------------------------------------------------------------\u001b[0m",
      "\u001b[0;31mFileNotFoundError\u001b[0m                         Traceback (most recent call last)",
      "\u001b[0;32m<ipython-input-111-c85c22f03d28>\u001b[0m in \u001b[0;36m<module>\u001b[0;34m\u001b[0m\n\u001b[1;32m     66\u001b[0m \u001b[0mprint\u001b[0m\u001b[0;34m(\u001b[0m\u001b[0moutput\u001b[0m\u001b[0;34m)\u001b[0m\u001b[0;34m\u001b[0m\u001b[0;34m\u001b[0m\u001b[0m\n\u001b[1;32m     67\u001b[0m \u001b[0;34m\u001b[0m\u001b[0m\n\u001b[0;32m---> 68\u001b[0;31m \u001b[0;32mwith\u001b[0m \u001b[0mopen\u001b[0m\u001b[0;34m(\u001b[0m\u001b[0manalysis_file\u001b[0m \u001b[0;34m,\u001b[0m\u001b[0;34m\"w\"\u001b[0m\u001b[0;34m)\u001b[0m \u001b[0;32mas\u001b[0m \u001b[0mtxt_file\u001b[0m\u001b[0;34m:\u001b[0m\u001b[0;34m\u001b[0m\u001b[0;34m\u001b[0m\u001b[0m\n\u001b[0m\u001b[1;32m     69\u001b[0m     \u001b[0mtxt_file\u001b[0m\u001b[0;34m.\u001b[0m\u001b[0mwrite\u001b[0m\u001b[0;34m(\u001b[0m\u001b[0moutput\u001b[0m\u001b[0;34m)\u001b[0m\u001b[0;34m\u001b[0m\u001b[0;34m\u001b[0m\u001b[0m\n",
      "\u001b[0;31mFileNotFoundError\u001b[0m: [Errno 2] No such file or directory: 'Analysis/Resources/Analysis.txt'"
     ]
    }
   ],
   "source": [
    "import os\n",
    "import csv\n",
    "\n",
    "election_data_csv = os.path.join(\".\", \"election_data.csv\")\n",
    "analysis_file = os.path.join(\"Analysis\", \"Resources\", \"Analysis.txt\")\n",
    "\n",
    "#Define variables, lists and dictionaries\n",
    "candidate_options = []\n",
    "candidate_votes = {}\n",
    "votes_count = []\n",
    "total_votes = 0\n",
    "    \n",
    "#CSV file management\n",
    "with open(election_data_csv) as csv_file:\n",
    "    csv_reader = csv.reader(csv_file)\n",
    "    \n",
    "    #Read/skip the header\n",
    "    csv_header = next(csv_file)\n",
    "    \n",
    "    for row in csv_reader:\n",
    "        votes_count.append(row[0])\n",
    "        candidate_name = row[2]\n",
    "         \n",
    "        total_votes = total_votes + 1\n",
    "        \n",
    "        if candidate_name not in candidate_options: \n",
    "            candidate_options.append(candidate_name)\n",
    "            candidate_votes[candidate_name] =0 \n",
    "        candidate_votes[candidate_name] += 1 \n",
    "            \n",
    "    #winner variables\n",
    "    maxVotes = 0\n",
    "    winner = \"\" #empty string\n",
    "    \n",
    "    for candidate, votes in candidate_votes.items():\n",
    "        \n",
    "        #calc winner\n",
    "        if votes > maxVotes:\n",
    "            maxVotes = votes\n",
    "            winner = candidate\n",
    "        \n",
    "        #calc %\n",
    "        if candidate == \"Khan\":\n",
    "            Khan_votes = votes\n",
    "            Khan_percent = round((votes / total_votes) * 100, 3)\n",
    "        elif candidate == \"Correy\":\n",
    "            Correy_votes = votes\n",
    "            Correy_percent = round((votes / total_votes) * 100, 3)  \n",
    "        elif candidate == \"Li\":\n",
    "            Li_votes = votes\n",
    "            Li_percent = round((votes / total_votes) * 100, 3)\n",
    "        elif candidate == \"O'Tooley\":\n",
    "            Tooley_votes = votes\n",
    "            Tooley_percent = round((votes / total_votes) * 100, 3)  \n",
    "\n",
    "output = (f\"\\nElection Results\\n\"\n",
    "        f\"------------------------------------------------\\n\"\n",
    "        f\"Total Votes: {total_votes:,}\\n\"\n",
    "        f\"------------------------------------------------\\n\"\n",
    "        f\"Khan: {Khan_percent:.3f}% ({Khan_votes:,}) \\n\"\n",
    "        f\"Correy: {Correy_percent:.3f}% ({Correy_votes:,})\\n\"\n",
    "        f\"Li: {Li_percent:.3f}% ({Li_votes:,})\\n\"\n",
    "        f\"O'Tooley: {Tooley_percent:.3f}% ({Tooley_votes:,})\\n\"\n",
    "        f\"------------------------------------------------\\n\"\n",
    "        f\"Winner: {winner}\\n\")\n",
    "print(output)\n",
    "    \n",
    "with open(analysis_file ,\"w\") as txt_file:\n",
    "    txt_file.write(output)"
   ]
  },
  {
   "cell_type": "code",
   "execution_count": 11,
   "id": "3a7de5c2",
   "metadata": {},
   "outputs": [
    {
     "name": "stdout",
     "output_type": "stream",
     "text": [
      "dict_values([704200, 2218230, 492940, 105630])\n",
      "[20.0, 63.0, 14.000000000000002, 3.0]\n",
      "3.0\n"
     ]
    }
   ],
   "source": []
  },
  {
   "cell_type": "code",
   "execution_count": null,
   "id": "7496800a",
   "metadata": {},
   "outputs": [],
   "source": []
  },
  {
   "cell_type": "code",
   "execution_count": 46,
   "id": "540cd38b",
   "metadata": {},
   "outputs": [
    {
     "name": "stdout",
     "output_type": "stream",
     "text": [
      "('Khan', 2218230)\n",
      "[20.0, 63.0, 14.000000000000002, 3.0]\n",
      "('Correy', 704200)\n",
      "[20.0, 63.0, 14.000000000000002, 3.0]\n",
      "('Li', 492940)\n",
      "[20.0, 63.0, 14.000000000000002, 3.0]\n",
      "(\"O'Tooley\", 105630)\n",
      "[20.0, 63.0, 14.000000000000002, 3.0]\n"
     ]
    }
   ],
   "source": []
  },
  {
   "cell_type": "code",
   "execution_count": 48,
   "id": "fdeac99e",
   "metadata": {},
   "outputs": [
    {
     "ename": "NameError",
     "evalue": "name 'sort_candidates' is not defined",
     "output_type": "error",
     "traceback": [
      "\u001b[0;31m---------------------------------------------------------------------------\u001b[0m",
      "\u001b[0;31mNameError\u001b[0m                                 Traceback (most recent call last)",
      "\u001b[0;32m<ipython-input-48-38585283086c>\u001b[0m in \u001b[0;36m<module>\u001b[0;34m\u001b[0m\n\u001b[0;32m----> 1\u001b[0;31m \u001b[0mcanidate_summary\u001b[0m \u001b[0;34m=\u001b[0m \u001b[0;34mf\"{sort_candidates}:\"\u001b[0m\u001b[0;34m\u001b[0m\u001b[0;34m\u001b[0m\u001b[0m\n\u001b[0m\u001b[1;32m      2\u001b[0m \u001b[0mprint\u001b[0m\u001b[0;34m(\u001b[0m\u001b[0mcandidate_summary\u001b[0m\u001b[0;34m)\u001b[0m\u001b[0;34m\u001b[0m\u001b[0;34m\u001b[0m\u001b[0m\n",
      "\u001b[0;31mNameError\u001b[0m: name 'sort_candidates' is not defined"
     ]
    }
   ],
   "source": []
  },
  {
   "cell_type": "code",
   "execution_count": null,
   "id": "9892df02",
   "metadata": {},
   "outputs": [],
   "source": []
  },
  {
   "cell_type": "code",
   "execution_count": null,
   "id": "2ce88ba8",
   "metadata": {},
   "outputs": [],
   "source": []
  },
  {
   "cell_type": "code",
   "execution_count": null,
   "id": "19403445",
   "metadata": {},
   "outputs": [],
   "source": []
  },
  {
   "cell_type": "code",
   "execution_count": 4,
   "id": "b384c20d",
   "metadata": {},
   "outputs": [
    {
     "name": "stdout",
     "output_type": "stream",
     "text": [
      "\n",
      "Election Results\n",
      "------------------------------------------------\n",
      "Total Votes: 3521000\n",
      "------------------------------------------------\n",
      "\n",
      "\n",
      "\n",
      "\n",
      "------------------------------------------------\n",
      "Winner:Khan\n",
      "\n"
     ]
    }
   ],
   "source": [
    " "
   ]
  },
  {
   "cell_type": "code",
   "execution_count": null,
   "id": "ed467339",
   "metadata": {},
   "outputs": [],
   "source": []
  }
 ],
 "metadata": {
  "kernelspec": {
   "display_name": "Python 3",
   "language": "python",
   "name": "python3"
  },
  "language_info": {
   "codemirror_mode": {
    "name": "ipython",
    "version": 3
   },
   "file_extension": ".py",
   "mimetype": "text/x-python",
   "name": "python",
   "nbconvert_exporter": "python",
   "pygments_lexer": "ipython3",
   "version": "3.8.8"
  }
 },
 "nbformat": 4,
 "nbformat_minor": 5
}
